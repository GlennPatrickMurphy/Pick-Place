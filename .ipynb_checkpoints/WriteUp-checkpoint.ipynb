{
 "cells": [
  {
   "cell_type": "markdown",
   "metadata": {},
   "source": [
    "# Writeup"
   ]
  },
  {
   "cell_type": "markdown",
   "metadata": {},
   "source": [
    "The Pick & Place Udacity projected tested the knoewledge of Forward and Inverse Kinematic functions. The project objective  was to correctly and smoothly pick up a cup, whose position is randomly generated on a shelf, with a Kuga Arm and drop the cup into a stationary bin. The essentail tasks of the project were determining the DH Parameters of a 6 axis manipulator, establishing the homogeneous transforms of each link, and calculating the joint angles of the manipulator. \n"
   ]
  },
  {
   "cell_type": "markdown",
   "metadata": {},
   "source": [
    "This repository includes: \n",
    "- A drawing of the manipulator and its respective DH Parameters table  (DHTable.jpg)\n",
    "- The Forward Kinematic equations (ForwardKinematic.ipyb)\n",
    "- The Inverse Kinematic equations (IK_Server.py)"
   ]
  },
  {
   "cell_type": "markdown",
   "metadata": {},
   "source": [
    "# Kinematic Analysis"
   ]
  },
  {
   "cell_type": "markdown",
   "metadata": {},
   "source": [
    "1. Running the forward_kinematics demo and my forward kinematics equations we can see "
   ]
  },
  {
   "cell_type": "code",
   "execution_count": null,
   "metadata": {
    "collapsed": true
   },
   "outputs": [],
   "source": [
    "\n"
   ]
  }
 ],
 "metadata": {
  "kernelspec": {
   "display_name": "Python 2",
   "language": "python",
   "name": "python2"
  },
  "language_info": {
   "codemirror_mode": {
    "name": "ipython",
    "version": 2
   },
   "file_extension": ".py",
   "mimetype": "text/x-python",
   "name": "python",
   "nbconvert_exporter": "python",
   "pygments_lexer": "ipython2",
   "version": "2.7.13"
  }
 },
 "nbformat": 4,
 "nbformat_minor": 2
}
