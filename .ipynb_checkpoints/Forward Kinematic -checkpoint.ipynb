{
 "cells": [
  {
   "cell_type": "code",
   "execution_count": 12,
   "metadata": {
    "collapsed": false
   },
   "outputs": [],
   "source": [
    "from sympy import symbols, cos, sin, pi, simplify, sqrt \n",
    "from sympy.matrices import Matrix\n",
    "from numpy import radians"
   ]
  },
  {
   "cell_type": "markdown",
   "metadata": {},
   "source": [
    "Create Symbols"
   ]
  },
  {
   "cell_type": "code",
   "execution_count": 13,
   "metadata": {
    "collapsed": false
   },
   "outputs": [],
   "source": [
    "q1, q2, q3, q4, q5, q6, q7= symbols('q1:8')\n",
    "d1, d2, d3, d4, d5, d6, d7= symbols('d1:8')\n",
    "a0, a1, a2, a3, a4, a5, a6=symbols('a0:7')\n",
    "alpha0, alpha1, alpha2, alpha3, alpha4, alpha5, alpha6=symbols('alpha0:7')\n"
   ]
  },
  {
   "cell_type": "markdown",
   "metadata": {},
   "source": [
    "DH PARAMETERS"
   ]
  },
  {
   "cell_type": "code",
   "execution_count": 14,
   "metadata": {
    "collapsed": false
   },
   "outputs": [],
   "source": [
    "s={alpha0:0, a0:0, d1:0.75,q1:q1,\n",
    "    alpha1: -pi/2., a1:0.35, d2:0, q2:-pi/2. + q2,\n",
    "    alpha2:0, a2:1.25, d3:0,q3:q3,\n",
    "    alpha3:-pi/2., a3:-0.054, d4:1.50, q4:q4,\n",
    "    alpha4:pi/2., a4:0, d5:0,q5:q5,\n",
    "    alpha5:-pi/2., a5:0, d6:0,q6:q6,\n",
    "    alpha6:0, a6:0, d7:0.303, q7:q7 }"
   ]
  },
  {
   "cell_type": "markdown",
   "metadata": {},
   "source": [
    "HOMOGENEOUS TRANSFORMS"
   ]
  },
  {
   "cell_type": "code",
   "execution_count": 15,
   "metadata": {
    "collapsed": false
   },
   "outputs": [],
   "source": [
    "def TF(alpha,a,d,q):    \n",
    "    TF = Matrix([[             cos(q),            -sin(q),            0,              a],\n",
    "               [ sin(q)*cos(alpha), cos(q)*cos(alpha), -sin(alpha), -sin(alpha)*d],\n",
    "               [ sin(q)*sin(alpha), cos(q)*sin(alpha),  cos(alpha),  cos(alpha)*d],\n",
    "               [                   0,                   0,            0,               1]])\n",
    "    return TF\n",
    "T0_1=TF(alpha0,a0,d1,q1).subs(s)\n",
    "T1_2=TF(alpha1,a1,d2,q2).subs(s)\n",
    "T2_3=TF(alpha2,a2,d3,q3).subs(s)\n",
    "T3_4=TF(alpha3,a3,d4,q4).subs(s)\n",
    "T4_5=TF(alpha4,a4,d5,q5).subs(s)\n",
    "T5_6=TF(alpha5,a5,d6,q6).subs(s)\n",
    "T6_7=TF(alpha6,a6,d7,q7).subs(s)\n"
   ]
  },
  {
   "cell_type": "markdown",
   "metadata": {},
   "source": [
    "TRANSFORM FROM BASE LINK TO END EFFECTOR"
   ]
  },
  {
   "cell_type": "code",
   "execution_count": 16,
   "metadata": {
    "collapsed": false
   },
   "outputs": [],
   "source": [
    "T0_7=T0_1 * T1_2 * T2_3 * T3_4 * T4_5 * T5_6* T6_7\n"
   ]
  },
  {
   "cell_type": "code",
   "execution_count": 17,
   "metadata": {
    "collapsed": false
   },
   "outputs": [
    {
     "name": "stdout",
     "output_type": "stream",
     "text": [
      "Matrix([[0.980066577841242, -0.198669330795061, 0, 0], [0.198669330795061, 0.980066577841242, 0, 0], [0, 0, 1.00000000000000, 0.750000000000000], [0, 0, 0, 1.00000000000000]])\n"
     ]
    }
   ],
   "source": [
    "print(T0_1.evalf(subs={q1:.2}))"
   ]
  },
  {
   "cell_type": "code",
   "execution_count": 18,
   "metadata": {
    "collapsed": false
   },
   "outputs": [
    {
     "name": "stdout",
     "output_type": "stream",
     "text": [
      "Matrix([[0.450615582836531, -0.201493296646497, -0.869681578459277, 0.378358988705577], [-0.212865008292018, 0.921843464962626, -0.323872064788767, 1.60303725645019], [0.866968329727063, 0.331066575649410, 0.372506157986738, 2.54556209232407], [0, 0, 0, 1.00000000000000]])\n"
     ]
    }
   ],
   "source": [
    "print(T0_7.evalf(subs={q1:1.21,q2:1.41, q3:-2.86, q4:2.32, q5:1.27, q6:-0.46, q7:0}))"
   ]
  },
  {
   "cell_type": "markdown",
   "metadata": {
    "collapsed": true
   },
   "source": [
    "Conversion to URDF"
   ]
  },
  {
   "cell_type": "code",
   "execution_count": 19,
   "metadata": {
    "collapsed": false
   },
   "outputs": [
    {
     "name": "stdout",
     "output_type": "stream",
     "text": [
      "0.116276621127448\n"
     ]
    }
   ],
   "source": [
    "#correction matrix for URDF\n",
    "R_z = Matrix([[ cos(pi), -sin(pi), 0 , 0],\n",
    "              [ sin(pi), cos(pi), 0,0],\n",
    "              [0,0,1,0],\n",
    "             [0,0,0,1]])\n",
    "R_y = Matrix([[cos(-pi/2), 0, sin(-pi/2), 0],\n",
    "              [0,1,0,0],\n",
    "              [-sin(-pi/2), 0, cos(-pi/2),0],\n",
    "              [0,0,0,1]])\n",
    "R_corr=simplify(R_z*R_y)\n",
    "T_total=T0_7*R_corr\n",
    "#calculating FK equation\n",
    "FK=T_total.evalf(subs={q1:1.21,q2:1.41, q3:-2.86, q4:2.32, q5:1.27, q6:-0.46, q7:0})\n",
    "#end effector position\n",
    "ee=[FK[0,3],FK[1,3],FK[2,3]]\n",
    "#percent difference \n",
    "ee_x=ee[0]-0.47675\n",
    "ee_y=ee[1]-1.6473\n",
    "ee_z=ee[2]-2.5022\n",
    "print(sqrt(ee_x*ee_x+ee_y*ee_y+ee_z*ee_z))"
   ]
  },
  {
   "cell_type": "code",
   "execution_count": null,
   "metadata": {
    "collapsed": true
   },
   "outputs": [],
   "source": []
  }
 ],
 "metadata": {
  "kernelspec": {
   "display_name": "Python 2",
   "language": "python",
   "name": "python2"
  },
  "language_info": {
   "codemirror_mode": {
    "name": "ipython",
    "version": 2
   },
   "file_extension": ".py",
   "mimetype": "text/x-python",
   "name": "python",
   "nbconvert_exporter": "python",
   "pygments_lexer": "ipython2",
   "version": "2.7.13"
  }
 },
 "nbformat": 4,
 "nbformat_minor": 2
}
