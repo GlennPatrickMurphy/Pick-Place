{
 "cells": [
  {
   "cell_type": "markdown",
   "metadata": {},
   "source": [
    "# Writeup"
   ]
  },
  {
   "cell_type": "markdown",
   "metadata": {},
   "source": [
    "The Pick & Place Udacity projected tested the knoewledge of Forward and Inverse Kinematic functions. The project objective  was to correctly and smoothly pick up a cup, whose position is randomly generated on a shelf, with a Kuga Arm and drop the cup into a stationary bin. The essentail tasks of the project were determining the DH Parameters of a 6 axis manipulator, establishing the homogeneous transforms of each link, and calculating the joint angles of the manipulator. \n"
   ]
  },
  {
   "cell_type": "markdown",
   "metadata": {},
   "source": [
    "This repository includes: \n",
    "- A drawing of the manipulator and its respective DH Parameters table  (DHTable.jpg)\n",
    "- The Forward Kinematic equations (ForwardKinematic.ipyb)\n",
    "- The Inverse Kinematic equations (IK_Server.py)"
   ]
  },
  {
   "cell_type": "markdown",
   "metadata": {},
   "source": [
    "# Kinematic Analysis"
   ]
  },
  {
   "cell_type": "markdown",
   "metadata": {},
   "source": [
    "1. Running the forward_kinematics demo and my forward kinematics equations we can see a percent differnece of 0.11%"
   ]
  },
  {
   "cell_type": "markdown",
   "metadata": {
    "collapsed": true
   },
   "source": [
    "#correction matrix for URDF\n",
    "R_z = Matrix([[ cos(pi), -sin(pi), 0 , 0],\n",
    "              [ sin(pi), cos(pi), 0,0],\n",
    "              [0,0,1,0],\n",
    "             [0,0,0,1]])\n",
    "R_y = Matrix([[cos(-pi/2), 0, sin(-pi/2), 0],\n",
    "              [0,1,0,0],\n",
    "              [-sin(-pi/2), 0, cos(-pi/2),0],\n",
    "              [0,0,0,1]])\n",
    "R_corr=simplify(R_z*R_y)\n",
    "T_total=T0_7*R_corr\n",
    "#calculating FK equation\n",
    "FK=T_total.evalf(subs={q1:1.21,q2:1.41, q3:-2.86, q4:2.32, q5:1.27, q6:-0.46, q7:0})\n",
    "#end effector position\n",
    "ee=[FK[0,3],FK[1,3],FK[2,3]]\n",
    "#percent difference \n",
    "ee_x=ee[0]-0.47675\n",
    "ee_y=ee[1]-1.6473\n",
    "ee_z=ee[2]-2.5022\n",
    "print(sqrt(ee_x*ee_x+ee_y*ee_y+ee_z*ee_z))\n"
   ]
  },
  {
   "cell_type": "markdown",
   "metadata": {},
   "source": [
    "0.116276621127448"
   ]
  },
  {
   "cell_type": "markdown",
   "metadata": {},
   "source": [
    "[image1]: ./pics/ForwardKinematicsImage\n",
    "![alt text][image1]"
   ]
  },
  {
   "cell_type": "code",
   "execution_count": null,
   "metadata": {
    "collapsed": true
   },
   "outputs": [],
   "source": []
  }
 ],
 "metadata": {
  "kernelspec": {
   "display_name": "Python 2",
   "language": "python",
   "name": "python2"
  },
  "language_info": {
   "codemirror_mode": {
    "name": "ipython",
    "version": 2
   },
   "file_extension": ".py",
   "mimetype": "text/x-python",
   "name": "python",
   "nbconvert_exporter": "python",
   "pygments_lexer": "ipython2",
   "version": "2.7.13"
  }
 },
 "nbformat": 4,
 "nbformat_minor": 2
}
