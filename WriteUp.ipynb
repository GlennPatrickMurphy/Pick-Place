{
 "cells": [
  {
   "cell_type": "markdown",
   "metadata": {},
   "source": [
    "# Writeup"
   ]
  },
  {
   "cell_type": "markdown",
   "metadata": {},
   "source": [
    "The Pick & Place Udacity projected tested the knowledge of Forward and Inverse Kinematic functions. The project objective was to correctly and smoothly pick up a cup, whose position is randomly generated on a shelf, with a Kuga Arm and drop the cup into a stationary bin. The essentail tasks of the project were determining the DH Parameters of a 6 axis manipulator, establishing the homogeneous transforms of each link, and calculating the joint angles of the manipulator. \n"
   ]
  },
  {
   "cell_type": "markdown",
   "metadata": {},
   "source": [
    "This repository includes: \n",
    "- A collection of of photos under the folder Pics\n",
    "- Under the folder Scripts\n",
    "    - The Forward Kinematic equations (ForwardKinematic.ipyb)\n",
    "    - The Inverse Kinematic equations (IK_Server.py)"
   ]
  },
  {
   "cell_type": "markdown",
   "metadata": {},
   "source": [
    "# Kinematic Analysis"
   ]
  },
  {
   "cell_type": "markdown",
   "metadata": {},
   "source": [
    "1. Running the forward_kinematics demo and my forward kinematics equations we can see a percent differnece of 0.11%"
   ]
  },
  {
   "cell_type": "code",
   "execution_count": null,
   "metadata": {
    "collapsed": true
   },
   "outputs": [],
   "source": [
    "#correction matrix for URDF\n",
    "R_z = Matrix([[ cos(pi), -sin(pi), 0 , 0],\n",
    "              [ sin(pi), cos(pi), 0,0],\n",
    "              [0,0,1,0],\n",
    "             [0,0,0,1]])\n",
    "R_y = Matrix([[cos(-pi/2), 0, sin(-pi/2), 0],\n",
    "              [0,1,0,0],\n",
    "              [-sin(-pi/2), 0, cos(-pi/2),0],\n",
    "              [0,0,0,1]])\n",
    "R_corr=simplify(R_z*R_y)\n",
    "T_total=T0_7*R_corr\n",
    "#calculating FK equation\n",
    "FK=T_total.evalf(subs={q1:1.21,q2:1.41, q3:-2.86, q4:2.32, q5:1.27, q6:-0.46, q7:0})\n",
    "#end effector position\n",
    "ee=[FK[0,3],FK[1,3],FK[2,3]]\n",
    "#percent difference \n",
    "ee_x=ee[0]-0.47675\n",
    "ee_y=ee[1]-1.6473\n",
    "ee_z=ee[2]-2.5022\n",
    "print(sqrt(ee_x*ee_x+ee_y*ee_y+ee_z*ee_z))\n"
   ]
  },
  {
   "cell_type": "markdown",
   "metadata": {},
   "source": [
    "0.116276621127448"
   ]
  },
  {
   "cell_type": "markdown",
   "metadata": {},
   "source": [
    "[//]: # (Image References)\n",
    "[image1]: ./pics/ForwardKinematicsImage.png\n",
    "![See Pics Folder for ForwardKinematicsImage][image1]"
   ]
  },
  {
   "cell_type": "markdown",
   "metadata": {},
   "source": [
    "2, 3 DH Parameter Table & Inverse Postion Problem\n",
    "\n",
    "Below is the diagram used to determine equations for the joint angles as well as the DH Table\n",
    "[image2]: ./pics/DHTable.jpg\n",
    "![See Pics Folder for DHTable][image2]"
   ]
  },
  {
   "cell_type": "markdown",
   "metadata": {},
   "source": [
    "# Project Implementation"
   ]
  },
  {
   "cell_type": "markdown",
   "metadata": {},
   "source": [
    "[image3]: ./pics/ReachedTarget.png\n",
    "![See Pics Folder for ReachedTarget][image3]\n",
    "[image4]: ./pics/GraspedTarget.png\n",
    "![See Pics Folder for GraspedTarget][image4]\n",
    "[image5]: ./pics/DroppingObject.png\n",
    "![See Pics Folder for DroppingObject.png][image5]"
   ]
  },
  {
   "cell_type": "markdown",
   "metadata": {},
   "source": [
    "This project took alot of time and effort going through the bugs of the code. Since the arm is decoupled it allows for the calculation to be greatly simplified. First the joint angles from the wrist centers position were calculated by using the roll, pitch and yaw supplied by the arm. The Rotation matrix of the wrist center was found and by R3_6 = inv(R0_3) * Rrpy the end effector rotation matrix from the wrist center was found. From this rotation matrix theta 4,5,and 6 were calculated."
   ]
  }
 ],
 "metadata": {
  "kernelspec": {
   "display_name": "Python 2",
   "language": "python",
   "name": "python2"
  },
  "language_info": {
   "codemirror_mode": {
    "name": "ipython",
    "version": 2
   },
   "file_extension": ".py",
   "mimetype": "text/x-python",
   "name": "python",
   "nbconvert_exporter": "python",
   "pygments_lexer": "ipython2",
   "version": "2.7.13"
  }
 },
 "nbformat": 4,
 "nbformat_minor": 2
}
