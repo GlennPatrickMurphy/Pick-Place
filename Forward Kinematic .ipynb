{
 "cells": [
  {
   "cell_type": "code",
   "execution_count": 19,
   "metadata": {
    "collapsed": false
   },
   "outputs": [],
   "source": [
    "from sympy import symbols, cos, sin, pi, simplify \n",
    "from sympy.matrices import Matrix\n",
    "from numpy import radians"
   ]
  },
  {
   "cell_type": "markdown",
   "metadata": {},
   "source": [
    "Create Symbols"
   ]
  },
  {
   "cell_type": "code",
   "execution_count": 20,
   "metadata": {
    "collapsed": false
   },
   "outputs": [],
   "source": [
    "q1, q2, q3, q4, q5, q6, q7= symbols('q1:8')\n",
    "d1, d2, d3, d4, d5, d6, d7= symbols('d1:8')\n",
    "a0, a1, a2, a3, a4, a5, a6=symbols('a0:7')\n",
    "alpha0, alpha1, alpha2, alpha3, alpha4, alpha5, alpha6=symbols('alpha0:7')\n"
   ]
  },
  {
   "cell_type": "markdown",
   "metadata": {},
   "source": [
    "DH PARAMETERS"
   ]
  },
  {
   "cell_type": "code",
   "execution_count": 44,
   "metadata": {
    "collapsed": false
   },
   "outputs": [],
   "source": [
    "s={alpha0:0, a0:0, d1:0.75,q1:q1,\n",
    "    alpha1: -pi/2., a1:0.35, d2:0, q2:-pi/2. + q2,\n",
    "    alpha2:0, a2:1.25, d3:0,q3:q3,\n",
    "    alpha3:-pi/2., a3:-0.054, d4:1.50, q4:q4,\n",
    "    alpha4:pi/2., a4:0, d5:0,q5:q5,\n",
    "    alpha5:-pi/2., a5:0, d6:0,q6:q6,\n",
    "    alpha6:0, a6:0, d7:0.303, q7:q7 }"
   ]
  },
  {
   "cell_type": "markdown",
   "metadata": {},
   "source": [
    "HOMOGENEOUS TRANSFORMS"
   ]
  },
  {
   "cell_type": "code",
   "execution_count": 45,
   "metadata": {
    "collapsed": false
   },
   "outputs": [],
   "source": [
    "def TF(alpha,a,d,q):    \n",
    "    TF = Matrix([[             cos(q),            -sin(q),            0,              a],\n",
    "               [ sin(q)*cos(alpha), cos(q)*cos(alpha), -sin(alpha), -sin(alpha)*d],\n",
    "               [ sin(q)*sin(alpha), cos(q)*sin(alpha),  cos(alpha),  cos(alpha)*d],\n",
    "               [                   0,                   0,            0,               1]])\n",
    "    return TF\n",
    "T0_1=TF(alpha0,a0,d1,q1).subs(s)\n",
    "T1_2=TF(alpha1,a1,d2,q2).subs(s)\n",
    "T2_3=TF(alpha2,a2,d3,q3).subs(s)\n",
    "T3_4=TF(alpha3,a3,d4,q4).subs(s)\n",
    "T4_5=TF(alpha4,a4,d5,q5).subs(s)\n",
    "T5_6=TF(alpha5,a5,d6,q6).subs(s)\n",
    "T6_7=TF(alpha6,a6,d7,q7).subs(s)\n"
   ]
  },
  {
   "cell_type": "markdown",
   "metadata": {},
   "source": [
    "TRANSFORM FROM BASE LINK TO END EFFECTOR"
   ]
  },
  {
   "cell_type": "code",
   "execution_count": 50,
   "metadata": {
    "collapsed": false
   },
   "outputs": [],
   "source": [
    "T0_7=T0_1 * T1_2 * T2_3 * T3_4 * T4_5 * T5_6* T6_7\n"
   ]
  },
  {
   "cell_type": "code",
   "execution_count": 51,
   "metadata": {
    "collapsed": false
   },
   "outputs": [
    {
     "name": "stdout",
     "output_type": "stream",
     "text": [
      "Matrix([[0.980066577841242, -0.198669330795061, 0, 0], [0.198669330795061, 0.980066577841242, 0, 0], [0, 0, 1.00000000000000, 0.750000000000000], [0, 0, 0, 1.00000000000000]])\n"
     ]
    }
   ],
   "source": [
    "print(T0_1.evalf(subs={q1:.2}))"
   ]
  },
  {
   "cell_type": "code",
   "execution_count": 52,
   "metadata": {
    "collapsed": false
   },
   "outputs": [
    {
     "name": "stdout",
     "output_type": "stream",
     "text": [
      "Matrix([[-0.0114949427396930, 0.451311591970961, -0.892292392237011, -1.16074722662081], [-0.330543563547699, 0.840471089394472, 0.429359174222769, -0.0503936651135099], [0.943720731407655, 0.299876966178976, 0.139516974833510, 1.88125221418190], [0, 0, 0, 1.00000000000000]])\n"
     ]
    }
   ],
   "source": [
    "print(T0_7.evalf(subs={q1:.20,q2:0.19, q3:-3.46, q4:1.19, q5:0.7, q6:1.64, q7:0}))"
   ]
  },
  {
   "cell_type": "markdown",
   "metadata": {
    "collapsed": true
   },
   "source": [
    "Conversion to URDF"
   ]
  },
  {
   "cell_type": "code",
   "execution_count": 49,
   "metadata": {
    "collapsed": false
   },
   "outputs": [
    {
     "name": "stdout",
     "output_type": "stream",
     "text": [
      "Matrix([\n",
      "[-0.971997786085098, 0.0426749246744033,  0.231082571064334, -0.890382631772994],\n",
      "[-0.197033705731661,  0.387869640269382, -0.900408163536376, -0.180489494903009],\n",
      "[ -0.12805476426638, -0.920725796837112, -0.368600033081045,   1.83897857080735],\n",
      "[                 0,                  0,                  0,                1.0]])\n"
     ]
    }
   ],
   "source": [
    "R_z = Matrix([[ cos(pi), -sin(pi), 0 , 0],\n",
    "              [ sin(pi), cos(pi), 0,0],\n",
    "              [0,0,1,0],\n",
    "             [0,0,0,1]])\n",
    "R_y = Matrix([[cos(-pi/2), 0, sin(-pi/2), 0],\n",
    "              [0,1,0,0],\n",
    "              [-sin(-pi/2), 0, cos(-pi/2),0],\n",
    "              [0,0,0,1]])\n",
    "R_corr=simplify(R_z*R_y)\n",
    "T_total=T0_7*R_corr\n",
    "print(T_total.evalf(subs={q1:.20,q2:0.19, q3:-3.46, q4:1.19, q5:0.7, q6:1.64, q7:0}))"
   ]
  },
  {
   "cell_type": "code",
   "execution_count": null,
   "metadata": {
    "collapsed": true
   },
   "outputs": [],
   "source": []
  },
  {
   "cell_type": "code",
   "execution_count": null,
   "metadata": {
    "collapsed": true
   },
   "outputs": [],
   "source": []
  }
 ],
 "metadata": {
  "kernelspec": {
   "display_name": "Python 2",
   "language": "python",
   "name": "python2"
  },
  "language_info": {
   "codemirror_mode": {
    "name": "ipython",
    "version": 2
   },
   "file_extension": ".py",
   "mimetype": "text/x-python",
   "name": "python",
   "nbconvert_exporter": "python",
   "pygments_lexer": "ipython2",
   "version": "2.7.13"
  }
 },
 "nbformat": 4,
 "nbformat_minor": 2
}
